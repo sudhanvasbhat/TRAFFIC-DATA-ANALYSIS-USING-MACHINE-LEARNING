{
 "cells": [
  {
   "cell_type": "code",
   "execution_count": 1,
   "id": "dc68205d",
   "metadata": {},
   "outputs": [],
   "source": [
    "import pandas as pd\n",
    "import numpy as np\n",
    "from sklearn.model_selection import train_test_split\n",
    "from sklearn.ensemble import RandomForestRegressor\n",
    "from sklearn.preprocessing import LabelEncoder\n",
    "import matplotlib.pyplot as plt\n",
    "\n",
    "from sklearn.metrics import mean_squared_error, r2_score, accuracy_score\n",
    "from sklearn.metrics import mean_absolute_error, mean_absolute_percentage_error"
   ]
  },
  {
   "cell_type": "markdown",
   "id": "14624800",
   "metadata": {},
   "source": [
    "### Pre-processing for Random Forest"
   ]
  },
  {
   "cell_type": "code",
   "execution_count": 2,
   "id": "b7d82951",
   "metadata": {},
   "outputs": [
    {
     "data": {
      "text/html": [
       "<div>\n",
       "<style scoped>\n",
       "    .dataframe tbody tr th:only-of-type {\n",
       "        vertical-align: middle;\n",
       "    }\n",
       "\n",
       "    .dataframe tbody tr th {\n",
       "        vertical-align: top;\n",
       "    }\n",
       "\n",
       "    .dataframe thead th {\n",
       "        text-align: right;\n",
       "    }\n",
       "</style>\n",
       "<table border=\"1\" class=\"dataframe\">\n",
       "  <thead>\n",
       "    <tr style=\"text-align: right;\">\n",
       "      <th></th>\n",
       "      <th>A53_M5_3007 (Belegungen/Intervall)</th>\n",
       "      <th>D11 (Belegungen/Intervall)</th>\n",
       "      <th>D12 (Belegungen/Intervall)</th>\n",
       "      <th>D21 (Belegungen/Intervall)</th>\n",
       "      <th>D31 (Belegungen/Intervall)</th>\n",
       "      <th>D41 (Belegungen/Intervall)</th>\n",
       "      <th>D42 (Belegungen/Intervall)</th>\n",
       "      <th>H53_M3_3006 (Belegungen/Intervall)</th>\n",
       "      <th>H53_M6_1140 (Belegungen/Intervall)</th>\n",
       "      <th>H57_M1_1137 (Belegungen/Intervall)</th>\n",
       "      <th>Date</th>\n",
       "      <th>Time</th>\n",
       "    </tr>\n",
       "  </thead>\n",
       "  <tbody>\n",
       "    <tr>\n",
       "      <th>0</th>\n",
       "      <td>0.0</td>\n",
       "      <td>0.0</td>\n",
       "      <td>0.0</td>\n",
       "      <td>0.0</td>\n",
       "      <td>0.0</td>\n",
       "      <td>0.0</td>\n",
       "      <td>0.0</td>\n",
       "      <td>0.0</td>\n",
       "      <td>0.0</td>\n",
       "      <td>0.0</td>\n",
       "      <td>2021-01-06</td>\n",
       "      <td>00:00:00</td>\n",
       "    </tr>\n",
       "    <tr>\n",
       "      <th>1</th>\n",
       "      <td>0.0</td>\n",
       "      <td>0.0</td>\n",
       "      <td>0.0</td>\n",
       "      <td>0.0</td>\n",
       "      <td>0.0</td>\n",
       "      <td>0.0</td>\n",
       "      <td>1.0</td>\n",
       "      <td>0.0</td>\n",
       "      <td>0.0</td>\n",
       "      <td>0.0</td>\n",
       "      <td>2021-01-06</td>\n",
       "      <td>00:01:00</td>\n",
       "    </tr>\n",
       "    <tr>\n",
       "      <th>2</th>\n",
       "      <td>0.0</td>\n",
       "      <td>0.0</td>\n",
       "      <td>0.0</td>\n",
       "      <td>0.0</td>\n",
       "      <td>0.0</td>\n",
       "      <td>0.0</td>\n",
       "      <td>0.0</td>\n",
       "      <td>0.0</td>\n",
       "      <td>0.0</td>\n",
       "      <td>0.0</td>\n",
       "      <td>2021-01-06</td>\n",
       "      <td>00:02:00</td>\n",
       "    </tr>\n",
       "    <tr>\n",
       "      <th>3</th>\n",
       "      <td>0.0</td>\n",
       "      <td>0.0</td>\n",
       "      <td>0.0</td>\n",
       "      <td>0.0</td>\n",
       "      <td>0.0</td>\n",
       "      <td>0.0</td>\n",
       "      <td>0.0</td>\n",
       "      <td>0.0</td>\n",
       "      <td>0.0</td>\n",
       "      <td>0.0</td>\n",
       "      <td>2021-01-06</td>\n",
       "      <td>00:03:00</td>\n",
       "    </tr>\n",
       "    <tr>\n",
       "      <th>4</th>\n",
       "      <td>0.0</td>\n",
       "      <td>0.0</td>\n",
       "      <td>0.0</td>\n",
       "      <td>0.0</td>\n",
       "      <td>0.0</td>\n",
       "      <td>0.0</td>\n",
       "      <td>2.0</td>\n",
       "      <td>0.0</td>\n",
       "      <td>0.0</td>\n",
       "      <td>0.0</td>\n",
       "      <td>2021-01-06</td>\n",
       "      <td>00:04:00</td>\n",
       "    </tr>\n",
       "  </tbody>\n",
       "</table>\n",
       "</div>"
      ],
      "text/plain": [
       "   A53_M5_3007 (Belegungen/Intervall)  D11 (Belegungen/Intervall)  \\\n",
       "0                                 0.0                         0.0   \n",
       "1                                 0.0                         0.0   \n",
       "2                                 0.0                         0.0   \n",
       "3                                 0.0                         0.0   \n",
       "4                                 0.0                         0.0   \n",
       "\n",
       "   D12 (Belegungen/Intervall)  D21 (Belegungen/Intervall)  \\\n",
       "0                         0.0                         0.0   \n",
       "1                         0.0                         0.0   \n",
       "2                         0.0                         0.0   \n",
       "3                         0.0                         0.0   \n",
       "4                         0.0                         0.0   \n",
       "\n",
       "   D31 (Belegungen/Intervall)  D41 (Belegungen/Intervall)  \\\n",
       "0                         0.0                         0.0   \n",
       "1                         0.0                         0.0   \n",
       "2                         0.0                         0.0   \n",
       "3                         0.0                         0.0   \n",
       "4                         0.0                         0.0   \n",
       "\n",
       "   D42 (Belegungen/Intervall)  H53_M3_3006 (Belegungen/Intervall)  \\\n",
       "0                         0.0                                 0.0   \n",
       "1                         1.0                                 0.0   \n",
       "2                         0.0                                 0.0   \n",
       "3                         0.0                                 0.0   \n",
       "4                         2.0                                 0.0   \n",
       "\n",
       "   H53_M6_1140 (Belegungen/Intervall)  H57_M1_1137 (Belegungen/Intervall)  \\\n",
       "0                                 0.0                                 0.0   \n",
       "1                                 0.0                                 0.0   \n",
       "2                                 0.0                                 0.0   \n",
       "3                                 0.0                                 0.0   \n",
       "4                                 0.0                                 0.0   \n",
       "\n",
       "         Date      Time  \n",
       "0  2021-01-06  00:00:00  \n",
       "1  2021-01-06  00:01:00  \n",
       "2  2021-01-06  00:02:00  \n",
       "3  2021-01-06  00:03:00  \n",
       "4  2021-01-06  00:04:00  "
      ]
     },
     "execution_count": 2,
     "metadata": {},
     "output_type": "execute_result"
    }
   ],
   "source": [
    "df = pd.read_csv('data.csv')\n",
    "df.head()"
   ]
  },
  {
   "cell_type": "markdown",
   "id": "a046f2ce",
   "metadata": {},
   "source": [
    "#### Creating one single DateTime column and taking hourly_sum of data"
   ]
  },
  {
   "cell_type": "code",
   "execution_count": 3,
   "id": "94909559",
   "metadata": {},
   "outputs": [],
   "source": [
    "df['Datetime'] = pd.to_datetime(df['Date'] + ' ' + df['Time'])\n",
    "df.set_index('Datetime', inplace=True)\n",
    "hourly_sum = df.resample('H').sum()"
   ]
  },
  {
   "cell_type": "code",
   "execution_count": 4,
   "id": "7ae709f1",
   "metadata": {},
   "outputs": [
    {
     "data": {
      "text/html": [
       "<div>\n",
       "<style scoped>\n",
       "    .dataframe tbody tr th:only-of-type {\n",
       "        vertical-align: middle;\n",
       "    }\n",
       "\n",
       "    .dataframe tbody tr th {\n",
       "        vertical-align: top;\n",
       "    }\n",
       "\n",
       "    .dataframe thead th {\n",
       "        text-align: right;\n",
       "    }\n",
       "</style>\n",
       "<table border=\"1\" class=\"dataframe\">\n",
       "  <thead>\n",
       "    <tr style=\"text-align: right;\">\n",
       "      <th></th>\n",
       "      <th>Datetime</th>\n",
       "      <th>A53_M5_3007 (Belegungen/Intervall)</th>\n",
       "      <th>D11 (Belegungen/Intervall)</th>\n",
       "      <th>D12 (Belegungen/Intervall)</th>\n",
       "      <th>D21 (Belegungen/Intervall)</th>\n",
       "      <th>D31 (Belegungen/Intervall)</th>\n",
       "      <th>D41 (Belegungen/Intervall)</th>\n",
       "      <th>D42 (Belegungen/Intervall)</th>\n",
       "      <th>H53_M3_3006 (Belegungen/Intervall)</th>\n",
       "      <th>H53_M6_1140 (Belegungen/Intervall)</th>\n",
       "      <th>H57_M1_1137 (Belegungen/Intervall)</th>\n",
       "    </tr>\n",
       "  </thead>\n",
       "  <tbody>\n",
       "    <tr>\n",
       "      <th>0</th>\n",
       "      <td>2021-01-06 00:00:00</td>\n",
       "      <td>12.0</td>\n",
       "      <td>5.0</td>\n",
       "      <td>3.0</td>\n",
       "      <td>2.0</td>\n",
       "      <td>0.0</td>\n",
       "      <td>9.0</td>\n",
       "      <td>35.0</td>\n",
       "      <td>8.0</td>\n",
       "      <td>0.0</td>\n",
       "      <td>8.0</td>\n",
       "    </tr>\n",
       "    <tr>\n",
       "      <th>1</th>\n",
       "      <td>2021-01-06 01:00:00</td>\n",
       "      <td>2.0</td>\n",
       "      <td>2.0</td>\n",
       "      <td>7.0</td>\n",
       "      <td>0.0</td>\n",
       "      <td>0.0</td>\n",
       "      <td>4.0</td>\n",
       "      <td>35.0</td>\n",
       "      <td>4.0</td>\n",
       "      <td>0.0</td>\n",
       "      <td>4.0</td>\n",
       "    </tr>\n",
       "    <tr>\n",
       "      <th>2</th>\n",
       "      <td>2021-01-06 02:00:00</td>\n",
       "      <td>0.0</td>\n",
       "      <td>2.0</td>\n",
       "      <td>3.0</td>\n",
       "      <td>0.0</td>\n",
       "      <td>0.0</td>\n",
       "      <td>3.0</td>\n",
       "      <td>22.0</td>\n",
       "      <td>0.0</td>\n",
       "      <td>0.0</td>\n",
       "      <td>0.0</td>\n",
       "    </tr>\n",
       "    <tr>\n",
       "      <th>3</th>\n",
       "      <td>2021-01-06 03:00:00</td>\n",
       "      <td>3.0</td>\n",
       "      <td>1.0</td>\n",
       "      <td>1.0</td>\n",
       "      <td>1.0</td>\n",
       "      <td>0.0</td>\n",
       "      <td>3.0</td>\n",
       "      <td>18.0</td>\n",
       "      <td>2.0</td>\n",
       "      <td>0.0</td>\n",
       "      <td>2.0</td>\n",
       "    </tr>\n",
       "    <tr>\n",
       "      <th>4</th>\n",
       "      <td>2021-01-06 04:00:00</td>\n",
       "      <td>6.0</td>\n",
       "      <td>4.0</td>\n",
       "      <td>3.0</td>\n",
       "      <td>3.0</td>\n",
       "      <td>0.0</td>\n",
       "      <td>7.0</td>\n",
       "      <td>28.0</td>\n",
       "      <td>9.0</td>\n",
       "      <td>0.0</td>\n",
       "      <td>9.0</td>\n",
       "    </tr>\n",
       "  </tbody>\n",
       "</table>\n",
       "</div>"
      ],
      "text/plain": [
       "             Datetime  A53_M5_3007 (Belegungen/Intervall)  \\\n",
       "0 2021-01-06 00:00:00                                12.0   \n",
       "1 2021-01-06 01:00:00                                 2.0   \n",
       "2 2021-01-06 02:00:00                                 0.0   \n",
       "3 2021-01-06 03:00:00                                 3.0   \n",
       "4 2021-01-06 04:00:00                                 6.0   \n",
       "\n",
       "   D11 (Belegungen/Intervall)  D12 (Belegungen/Intervall)  \\\n",
       "0                         5.0                         3.0   \n",
       "1                         2.0                         7.0   \n",
       "2                         2.0                         3.0   \n",
       "3                         1.0                         1.0   \n",
       "4                         4.0                         3.0   \n",
       "\n",
       "   D21 (Belegungen/Intervall)  D31 (Belegungen/Intervall)  \\\n",
       "0                         2.0                         0.0   \n",
       "1                         0.0                         0.0   \n",
       "2                         0.0                         0.0   \n",
       "3                         1.0                         0.0   \n",
       "4                         3.0                         0.0   \n",
       "\n",
       "   D41 (Belegungen/Intervall)  D42 (Belegungen/Intervall)  \\\n",
       "0                         9.0                        35.0   \n",
       "1                         4.0                        35.0   \n",
       "2                         3.0                        22.0   \n",
       "3                         3.0                        18.0   \n",
       "4                         7.0                        28.0   \n",
       "\n",
       "   H53_M3_3006 (Belegungen/Intervall)  H53_M6_1140 (Belegungen/Intervall)  \\\n",
       "0                                 8.0                                 0.0   \n",
       "1                                 4.0                                 0.0   \n",
       "2                                 0.0                                 0.0   \n",
       "3                                 2.0                                 0.0   \n",
       "4                                 9.0                                 0.0   \n",
       "\n",
       "   H57_M1_1137 (Belegungen/Intervall)  \n",
       "0                                 8.0  \n",
       "1                                 4.0  \n",
       "2                                 0.0  \n",
       "3                                 2.0  \n",
       "4                                 9.0  "
      ]
     },
     "execution_count": 4,
     "metadata": {},
     "output_type": "execute_result"
    }
   ],
   "source": [
    "hourly_sum.reset_index(inplace=True)\n",
    "#hourly_sum['Date'] = hourly_sum['Datetime'].dt.date\n",
    "#hourly_sum['Time'] = hourly_sum['Datetime'].dt.time\n",
    "\n",
    "# Drop the 'Datetime'\n",
    "#hourly_sum.drop(columns=['Datetime'], inplace=True)\n",
    "hourly_sum.fillna(0, inplace=True)\n",
    "hourly_sum.head()"
   ]
  },
  {
   "cell_type": "markdown",
   "id": "6e283c97",
   "metadata": {},
   "source": [
    "#### Speficying the training and target variables and performing test-train split"
   ]
  },
  {
   "cell_type": "code",
   "execution_count": 5,
   "id": "d0dabdee",
   "metadata": {},
   "outputs": [],
   "source": [
    "#le = LabelEncoder() \n",
    "#hourly_sum['Date']= le.fit_transform(hourly_sum['Date'])\n",
    "#hourly_sum['Time']= le.fit_transform(hourly_sum['Time'])\n",
    "\n",
    "hourly_sum['Year'] = hourly_sum['Datetime'].dt.year\n",
    "hourly_sum['Month'] = hourly_sum['Datetime'].dt.month\n",
    "hourly_sum['Day'] = hourly_sum['Datetime'].dt.day\n",
    "hourly_sum['Hour'] = hourly_sum['Datetime'].dt.hour"
   ]
  },
  {
   "cell_type": "code",
   "execution_count": 6,
   "id": "019c6805",
   "metadata": {},
   "outputs": [],
   "source": [
    "X = hourly_sum[['A53_M5_3007 (Belegungen/Intervall)', 'Year', 'Month', 'Day', 'Hour']]\n",
    "y = hourly_sum['D11 (Belegungen/Intervall)']\n",
    "\n",
    "# test_size: Fraction of the data to reserve as the test set\n",
    "# random_state: Seed for random number generator for reproducibility\n",
    "\n",
    "X_train, X_test, y_train, y_test = train_test_split(X, y, test_size=0.2, random_state=42)"
   ]
  },
  {
   "cell_type": "markdown",
   "id": "506c2943",
   "metadata": {},
   "source": [
    "### Model Training"
   ]
  },
  {
   "cell_type": "code",
   "execution_count": 7,
   "id": "0f7d9c50",
   "metadata": {},
   "outputs": [],
   "source": [
    "#label_encoder = LabelEncoder()\n",
    "#x_categorical = df.select_dtypes(include=['object']).apply(label_encoder.fit_transform)\n",
    "#x_numerical = df.select_dtypes(exclude=['object']).values\n",
    "#x = pd.concat([pd.DataFrame(x_numerical), x_categorical], axis=1).values\n",
    "\n",
    "rf_model = RandomForestRegressor(n_estimators=100, random_state=42)"
   ]
  },
  {
   "cell_type": "code",
   "execution_count": 8,
   "id": "54de8daa",
   "metadata": {},
   "outputs": [
    {
     "data": {
      "text/plain": [
       "RandomForestRegressor(random_state=42)"
      ]
     },
     "execution_count": 8,
     "metadata": {},
     "output_type": "execute_result"
    }
   ],
   "source": [
    "rf_model.fit(X_train, y_train)"
   ]
  },
  {
   "cell_type": "code",
   "execution_count": 9,
   "id": "51834963",
   "metadata": {},
   "outputs": [],
   "source": [
    "# Make predictions on the test data\n",
    "y_pred = rf_model.predict(X_test)"
   ]
  },
  {
   "cell_type": "markdown",
   "id": "0aa96464",
   "metadata": {},
   "source": [
    "#### Evaluation metrics"
   ]
  },
  {
   "cell_type": "code",
   "execution_count": 10,
   "id": "b5e5b710",
   "metadata": {},
   "outputs": [
    {
     "name": "stdout",
     "output_type": "stream",
     "text": [
      "Mean Absolute Error: 3.834735708692248\n",
      "MAE as Percentage: 16.76%\n",
      "SMAPE Score: 102.21%\n"
     ]
    }
   ],
   "source": [
    "# MAE\n",
    "mae = mean_absolute_error(y_test, y_pred)\n",
    "y_test = np.where(y_test == 0, 1e-100, y_test)\n",
    "mean_actual = sum(y_test) / len(y_test)  # Calculate the mean of actual values\n",
    "mae_percentage = (mae / mean_actual) * 100\n",
    "\n",
    "# SMAPE\n",
    "smape_score = 100/len(y_test) * np.sum(2 * np.abs(y_pred - y_test) / (np.abs(y_pred) + np.abs(y_test)))\n",
    "\n",
    "\n",
    "print(f\"Mean Absolute Error: {mae}\")\n",
    "print(f\"MAE as Percentage: {mae_percentage:.2f}%\")\n",
    "print(f\"SMAPE Score: {smape_score:.2f}%\")"
   ]
  },
  {
   "cell_type": "code",
   "execution_count": 11,
   "id": "0bda0ab2",
   "metadata": {},
   "outputs": [
    {
     "data": {
      "image/png": "[encoded data removed]",
      "text/plain": [
       "<Figure size 1440x432 with 1 Axes>"
      ]
     },
     "metadata": {
      "needs_background": "light"
     },
     "output_type": "display_data"
    }
   ],
   "source": [
    "plt.figure(figsize=(20, 6))\n",
    "plt.plot(y_test, label='Actual')\n",
    "plt.plot(y_pred, label='Predicted')\n",
    "plt.legend()\n",
    "plt.show()"
   ]
  },
  {
   "cell_type": "code",
   "execution_count": null,
   "id": "8186a22a",
   "metadata": {},
   "outputs": [],
   "source": [
    "plt.plot(y_test[:100], label='Actual')\n",
    "plt.plot(y_pred, label='Predicted')\n",
    "plt.legend()\n",
    "plt.show()"
   ]
  }
 ],
 "metadata": {
  "kernelspec": {
   "display_name": "Python 3 (ipykernel)",
   "language": "python",
   "name": "python3"
  },
  "language_info": {
   "codemirror_mode": {
    "name": "ipython",
    "version": 3
   },
   "file_extension": ".py",
   "mimetype": "text/x-python",
   "name": "python",
   "nbconvert_exporter": "python",
   "pygments_lexer": "ipython3",
   "version": "3.9.7"
  },
  "toc": {
   "base_numbering": 1,
   "nav_menu": {},
   "number_sections": true,
   "sideBar": true,
   "skip_h1_title": false,
   "title_cell": "Table of Contents",
   "title_sidebar": "Contents",
   "toc_cell": false,
   "toc_position": {},
   "toc_section_display": true,
   "toc_window_display": false
  }
 },
 "nbformat": 4,
 "nbformat_minor": 5
}
