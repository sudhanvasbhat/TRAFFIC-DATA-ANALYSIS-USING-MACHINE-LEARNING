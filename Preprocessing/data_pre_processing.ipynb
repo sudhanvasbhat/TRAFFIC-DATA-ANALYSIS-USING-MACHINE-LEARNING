{
 "cells": [
  {
   "cell_type": "code",
   "execution_count": null,
   "id": "bf9f1988",
   "metadata": {},
   "outputs": [],
   "source": [
    "import pandas as pd\n",
    "import numpy as np\n",
    "from sklearn.model_selection import train_test_split\n",
    "from sklearn.ensemble import RandomForestRegressor\n",
    "from sklearn.preprocessing import LabelEncoder\n",
    "import matplotlib.pyplot as plt\n",
    "\n",
    "from sklearn.metrics import mean_squared_error, r2_score, accuracy_score\n",
    "from sklearn.metrics import mean_absolute_error, mean_absolute_percentage_error\n",
    "from sklearn.model_selection import TimeSeriesSplit, GridSearchCV"
   ]
  },
  {
   "cell_type": "markdown",
   "id": "d3c23fd0",
   "metadata": {},
   "source": [
    "### Pre-processing"
   ]
  },
  {
   "cell_type": "code",
   "execution_count": null,
   "id": "4552e4cb",
   "metadata": {},
   "outputs": [],
   "source": [
    "# Loading data from CSV file\n",
    "df_A005 = pd.read_csv('complete_A005.csv')\n",
    "df_A006 = pd.read_csv('complete_A006.csv')\n",
    "df_A028 = pd.read_csv('complete_A028.csv')\n",
    "#df_A029 = pd.read_csv('complete_A029.csv')\n",
    "df_A030 = pd.read_csv('complete_A030.csv')\n",
    "\n",
    "# Splitting datetime column to seperate date and time\n",
    "datetime_column = 'Intervallbeginn (Lokalzeit)'\n",
    "\n",
    "df_A005[datetime_column] = pd.to_datetime(df_A005[datetime_column], format='%d.%m.%Y %H:%M:%S')\n",
    "df_A006[datetime_column] = pd.to_datetime(df_A006[datetime_column], format='%d.%m.%Y %H:%M:%S')\n",
    "df_A028[datetime_column] = pd.to_datetime(df_A028[datetime_column], format='%d.%m.%Y %H:%M:%S')\n",
    "#df_A029[datetime_column] = pd.to_datetime(df_A029[datetime_column], format='%d.%m.%Y %H:%M:%S')\n",
    "df_A030[datetime_column] = pd.to_datetime(df_A030[datetime_column], format='%d.%m.%Y %H:%M:%S')\n",
    "\n",
    "#df_A005['Date'] = df_A005[datetime_column].dt.date\n",
    "#df_A005['Time'] = df_A005[datetime_column].dt.time\n",
    "#df_A006['Date'] = df_A006[datetime_column].dt.date\n",
    "#df_A006['Time'] = df_A006[datetime_column].dt.time\n",
    "#df_A028['Date'] = df_A028[datetime_column].dt.date\n",
    "#df_A028['Time'] = df_A028[datetime_column].dt.time\n",
    "#df_A029['Date'] = df_A029[datetime_column].dt.date\n",
    "#df_A029['Time'] = df_A029[datetime_column].dt.time\n",
    "#df_A030['Date'] = df_A030[datetime_column].dt.date\n",
    "#df_A030['Time'] = df_A030[datetime_column].dt.time"
   ]
  },
  {
   "cell_type": "markdown",
   "id": "4a763d3d",
   "metadata": {},
   "source": [
    "Taking hourly sum and splitting Datetime info to model-readable format"
   ]
  },
  {
   "cell_type": "code",
   "execution_count": null,
   "id": "f1f04a69",
   "metadata": {},
   "outputs": [],
   "source": [
    "df_A005.rename({'Intervallbeginn (Lokalzeit)': 'Datetime'}, axis=1, inplace=True)\n",
    "df_A005.set_index('Datetime', inplace=True)\n",
    "\n",
    "df_A006.rename({'Intervallbeginn (Lokalzeit)': 'Datetime'}, axis=1, inplace=True)\n",
    "df_A006.set_index('Datetime', inplace=True)\n",
    "\n",
    "df_A028.rename({'Intervallbeginn (Lokalzeit)': 'Datetime'}, axis=1, inplace=True)\n",
    "df_A028.set_index('Datetime', inplace=True)\n",
    "\n",
    "df_A030.rename({'Intervallbeginn (Lokalzeit)': 'Datetime'}, axis=1, inplace=True)\n",
    "df_A030.set_index('Datetime', inplace=True)\n",
    "\n",
    "# Resample the data to calculate the hourly sum\n",
    "# A005\n",
    "df_A005 = df_A005.resample('H').sum()\n",
    "df_A005.reset_index(inplace=True)\n",
    "df_A005.fillna(0, inplace=True)\n",
    "\n",
    "# Resample the data to year, month, day, hour\n",
    "\n",
    "df_A005['Year'] = df_A005['Datetime'].dt.year\n",
    "df_A005['Month'] = df_A005['Datetime'].dt.month\n",
    "df_A005['Day'] = df_A005['Datetime'].dt.day\n",
    "df_A005['Hour'] = df_A005['Datetime'].dt.hour\n",
    "# A006\n",
    "df_A006 = df_A006.resample('H').sum()\n",
    "df_A006.reset_index(inplace=True)\n",
    "df_A006.fillna(0, inplace=True)\n",
    "df_A006['Year'] = df_A006['Datetime'].dt.year\n",
    "df_A006['Month'] = df_A006['Datetime'].dt.month\n",
    "df_A006['Day'] = df_A006['Datetime'].dt.day\n",
    "df_A006['Hour'] = df_A006['Datetime'].dt.hour\n",
    "# A028\n",
    "df_A028 = df_A028.resample('H').sum()\n",
    "df_A028.reset_index(inplace=True)\n",
    "df_A028.fillna(0, inplace=True)\n",
    "df_A028['Year'] = df_A028['Datetime'].dt.year\n",
    "df_A028['Month'] = df_A028['Datetime'].dt.month\n",
    "df_A028['Day'] = df_A028['Datetime'].dt.day\n",
    "df_A028['Hour'] = df_A028['Datetime'].dt.hour\n",
    "# A030\n",
    "df_A030 = df_A030.resample('H').sum()\n",
    "df_A030.reset_index(inplace=True)\n",
    "df_A030.fillna(0, inplace=True)\n",
    "df_A030['Year'] = df_A030['Datetime'].dt.year\n",
    "df_A030['Month'] = df_A030['Datetime'].dt.month\n",
    "df_A030['Day'] = df_A030['Datetime'].dt.day\n",
    "df_A030['Hour'] = df_A030['Datetime'].dt.hour"
   ]
  },
  {
   "cell_type": "markdown",
   "id": "360a7a48",
   "metadata": {},
   "source": [
    "Saving the pre-processed data"
   ]
  },
  {
   "cell_type": "code",
   "execution_count": null,
   "id": "60ab4002",
   "metadata": {},
   "outputs": [],
   "source": [
    "df_A005.to_csv('data_A005.csv', index=False)\n",
    "df_A006.to_csv('data_A006.csv', index=False)\n",
    "df_A028.to_csv('data_A028.csv', index=False)\n",
    "#df_A029.to_csv('data_A029.csv', index=False)\n",
    "df_A030.to_csv('data_A030.csv', index=False)"
   ]
  }
 ],
 "metadata": {
  "kernelspec": {
   "display_name": "Python 3 (ipykernel)",
   "language": "python",
   "name": "python3"
  },
  "language_info": {
   "codemirror_mode": {
    "name": "ipython",
    "version": 3
   },
   "file_extension": ".py",
   "mimetype": "text/x-python",
   "name": "python",
   "nbconvert_exporter": "python",
   "pygments_lexer": "ipython3",
   "version": "3.9.7"
  },
  "toc": {
   "base_numbering": 1,
   "nav_menu": {},
   "number_sections": true,
   "sideBar": true,
   "skip_h1_title": false,
   "title_cell": "Table of Contents",
   "title_sidebar": "Contents",
   "toc_cell": false,
   "toc_position": {},
   "toc_section_display": true,
   "toc_window_display": false
  }
 },
 "nbformat": 4,
 "nbformat_minor": 5
}
